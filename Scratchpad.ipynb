{
 "cells": [
  {
   "cell_type": "code",
   "execution_count": 3,
   "id": "27e06be7",
   "metadata": {},
   "outputs": [
    {
     "name": "stdout",
     "output_type": "stream",
     "text": [
      "Collecting pytube\n",
      "  Downloading pytube-12.0.0-py3-none-any.whl (56 kB)\n",
      "\u001b[2K     \u001b[90m━━━━━━━━━━━━━━━━━━━━━━━━━━━━━━━━━━━━━━━━\u001b[0m \u001b[32m56.5/56.5 KB\u001b[0m \u001b[31m1.4 MB/s\u001b[0m eta \u001b[36m0:00:00\u001b[0m\n",
      "\u001b[?25hInstalling collected packages: pytube\n",
      "Successfully installed pytube-12.0.0\n"
     ]
    }
   ],
   "source": [
    "!pip install pytube"
   ]
  },
  {
   "cell_type": "code",
   "execution_count": 1,
   "id": "899472b1",
   "metadata": {},
   "outputs": [],
   "source": [
    "import cv2"
   ]
  },
  {
   "cell_type": "code",
   "execution_count": 4,
   "id": "97412950",
   "metadata": {},
   "outputs": [
    {
     "data": {
      "text/plain": [
       "'/Users/rishi_konapure/TeacherOn students/gurpreet/Actor_screentime/The Big Bang Theory - Science is dead.3gpp'"
      ]
     },
     "execution_count": 4,
     "metadata": {},
     "output_type": "execute_result"
    }
   ],
   "source": [
    "from pytube import YouTube as yt\n",
    "\n",
    "video_link = 'https://www.youtube.com/watch?v=I5mUUOZT6b4&t=22s'\n",
    "vid = yt(video_link)\n",
    "\n",
    "stream = vid.streams.first()\n",
    "stream.download()"
   ]
  },
  {
   "cell_type": "code",
   "execution_count": 6,
   "id": "900d2a88",
   "metadata": {},
   "outputs": [],
   "source": [
    "# Opens the Video file\n",
    "cap= cv2.VideoCapture('The Big Bang Theory - Science is dead.3gpp')\n",
    "i=0\n",
    "\n",
    "image_folder = 'extracted_images'\n",
    "while True:\n",
    "    ret, frame = cap.read()\n",
    "    \n",
    "    if ret == False:\n",
    "        break\n",
    "    cv2.imwrite(image_folder+'/'+str(i)+'.jpg',frame)\n",
    "    i+=1\n",
    "\n",
    "cap.release()\n",
    "cv2.destroyAllWindows()"
   ]
  },
  {
   "cell_type": "code",
   "execution_count": 9,
   "id": "d48cf9f3",
   "metadata": {},
   "outputs": [
    {
     "name": "stderr",
     "output_type": "stream",
     "text": [
      "100%|█████████████████████████████████████| 1145/1145 [00:00<00:00, 1633.83it/s]\n",
      "100%|█████████████████████████████████████| 2320/2320 [00:01<00:00, 1778.00it/s]\n",
      "0it [00:00, ?it/s]\n"
     ]
    }
   ],
   "source": [
    "from tqdm import tqdm\n",
    "import cv2\n",
    "import os\n",
    "import numpy as np\n",
    "\n",
    "img_path = 'data/'\n",
    "\n",
    "class1_data = []\n",
    "class2_data = []\n",
    "for classes in os.listdir(img_path):\n",
    "        fin_path = os.path.join(img_path, classes)\n",
    "        for fin_classes in tqdm(os.listdir(fin_path)):\n",
    "            img = cv2.imread(os.path.join(fin_path, fin_classes))\n",
    "            if img is None:\n",
    "                continue\n",
    "            else:\n",
    "                img = cv2.resize(img, (112,112))\n",
    "                img = img/255.\n",
    "                if classes == 'sheldon':\n",
    "                    class1_data.append(img)\n",
    "                else:\n",
    "                    class2_data.append(img)\n",
    "\n",
    "\n",
    "class1_data = np.array(class1_data)\n",
    "class2_data = np.array(class2_data)"
   ]
  },
  {
   "cell_type": "code",
   "execution_count": null,
   "id": "aa129544",
   "metadata": {},
   "outputs": [],
   "source": [
    "import keras\n",
    "from keras.applications import VGG16\n",
    "\n",
    "vgg_model = VGG16(include_top=False, weights='imagenet')"
   ]
  },
  {
   "cell_type": "code",
   "execution_count": 10,
   "id": "1d608325",
   "metadata": {},
   "outputs": [
    {
     "data": {
      "text/plain": [
       "'/Users/rishi_konapure/TeacherOn students/gurpreet/Actor_screentime/Sheldon On Teaching Women And then uses Google.3gpp'"
      ]
     },
     "execution_count": 10,
     "metadata": {},
     "output_type": "execute_result"
    }
   ],
   "source": [
    "# Test video\n",
    "\n",
    "\n",
    "from pytube import YouTube as yt\n",
    "\n",
    "video_link = 'https://www.youtube.com/watch?v=g_j869cfKDs'\n",
    "vid = yt(video_link)\n",
    "\n",
    "stream = vid.streams.first()\n",
    "stream.download()"
   ]
  },
  {
   "cell_type": "code",
   "execution_count": null,
   "id": "fc666168",
   "metadata": {},
   "outputs": [],
   "source": [
    "### Test video extraction \n",
    "\n",
    "\n",
    "# Opens the Video file\n",
    "cap= cv2.VideoCapture('The Big Bang Theory - Science is dead.3gpp')\n",
    "i=0\n",
    "\n",
    "image_folder = 'extracted_images'\n",
    "while True:\n",
    "    ret, frame = cap.read()\n",
    "    \n",
    "    if ret == False:\n",
    "        break\n",
    "    cv2.imwrite(image_folder+'/'+str(i)+'.jpg',frame)\n",
    "    i+=1\n",
    "\n",
    "cap.release()\n",
    "cv2.destroyAllWindows()"
   ]
  }
 ],
 "metadata": {
  "kernelspec": {
   "display_name": "Python 3 (ipykernel)",
   "language": "python",
   "name": "python3"
  },
  "language_info": {
   "codemirror_mode": {
    "name": "ipython",
    "version": 3
   },
   "file_extension": ".py",
   "mimetype": "text/x-python",
   "name": "python",
   "nbconvert_exporter": "python",
   "pygments_lexer": "ipython3",
   "version": "3.8.10"
  }
 },
 "nbformat": 4,
 "nbformat_minor": 5
}
